{
  "nbformat": 4,
  "nbformat_minor": 0,
  "metadata": {
    "colab": {
      "name": "Assignment_23_3.ipynb",
      "provenance": [],
      "collapsed_sections": []
    },
    "kernelspec": {
      "name": "python3",
      "display_name": "Python 3"
    }
  },
  "cells": [
    {
      "cell_type": "code",
      "metadata": {
        "id": "456mG6zu9eR7",
        "colab_type": "code",
        "colab": {}
      },
      "source": [
        "#!pip install opencv-python\n",
        "#!pip install imutils\n",
        "\n",
        "import cv2\n",
        "import numpy as np\n",
        "import dlib\n",
        "import imutils\n",
        "from google.colab.patches import cv2_imshow\n",
        "from imutils.video import FileVideoStream\n",
        "import matplotlib\n",
        "import matplotlib.pyplot as plt\n",
        "%matplotlib inline\n",
        "\n",
        "matplotlib.rcParams['figure.figsize'] = (6.0,6.0)\n",
        "matplotlib.rcParams['image.cmap'] = 'gray'\n"
      ],
      "execution_count": 0,
      "outputs": []
    },
    {
      "cell_type": "code",
      "metadata": {
        "id": "DvKkU2Q49o2M",
        "colab_type": "code",
        "outputId": "fd4ef530-d845-471f-80a5-db2c138baabc",
        "colab": {
          "base_uri": "https://localhost:8080/",
          "height": 122
        }
      },
      "source": [
        "from google.colab import drive\n",
        "\n",
        "drive.mount('/content/drive')\n",
        "!ls /content/drive/My\\ Drive/EVA/Assignment23 > /dev/null"
      ],
      "execution_count": 2,
      "outputs": [
        {
          "output_type": "stream",
          "text": [
            "Go to this URL in a browser: https://accounts.google.com/o/oauth2/auth?client_id=947318989803-6bn6qk8qdgf4n4g3pfee6491hc0brc4i.apps.googleusercontent.com&redirect_uri=urn%3Aietf%3Awg%3Aoauth%3A2.0%3Aoob&scope=email%20https%3A%2F%2Fwww.googleapis.com%2Fauth%2Fdocs.test%20https%3A%2F%2Fwww.googleapis.com%2Fauth%2Fdrive%20https%3A%2F%2Fwww.googleapis.com%2Fauth%2Fdrive.photos.readonly%20https%3A%2F%2Fwww.googleapis.com%2Fauth%2Fpeopleapi.readonly&response_type=code\n",
            "\n",
            "Enter your authorization code:\n",
            "··········\n",
            "Mounted at /content/drive\n"
          ],
          "name": "stdout"
        }
      ]
    },
    {
      "cell_type": "code",
      "metadata": {
        "id": "OUOCgZG3G2to",
        "colab_type": "code",
        "outputId": "6c5226bb-2469-4a34-ba3e-2be8370933fe",
        "colab": {
          "base_uri": "https://localhost:8080/",
          "height": 442
        }
      },
      "source": [
        "!ls /content/drive/My\\ Drive/EVA/Assignment23/VID_20191020_132419.mp4\n",
        "!ls /content/drive/My\\ Drive/EVA/Assignment23/data/"
      ],
      "execution_count": 3,
      "outputs": [
        {
          "output_type": "stream",
          "text": [
            "'/content/drive/My Drive/EVA/Assignment23/VID_20191020_132419.mp4'\n",
            "frame0.jpg    frame121.jpg  frame14.jpg  frame36.jpg  frame58.jpg  frame7.jpg\n",
            "frame100.jpg  frame122.jpg  frame15.jpg  frame37.jpg  frame59.jpg  frame80.jpg\n",
            "frame101.jpg  frame123.jpg  frame16.jpg  frame38.jpg  frame5.jpg   frame81.jpg\n",
            "frame102.jpg  frame124.jpg  frame17.jpg  frame39.jpg  frame60.jpg  frame82.jpg\n",
            "frame103.jpg  frame125.jpg  frame18.jpg  frame3.jpg   frame61.jpg  frame83.jpg\n",
            "frame104.jpg  frame126.jpg  frame19.jpg  frame40.jpg  frame62.jpg  frame84.jpg\n",
            "frame105.jpg  frame127.jpg  frame1.jpg\t frame41.jpg  frame63.jpg  frame85.jpg\n",
            "frame106.jpg  frame128.jpg  frame20.jpg  frame42.jpg  frame64.jpg  frame86.jpg\n",
            "frame107.jpg  frame129.jpg  frame21.jpg  frame43.jpg  frame65.jpg  frame87.jpg\n",
            "frame108.jpg  frame12.jpg   frame22.jpg  frame44.jpg  frame66.jpg  frame88.jpg\n",
            "frame109.jpg  frame130.jpg  frame23.jpg  frame45.jpg  frame67.jpg  frame89.jpg\n",
            "frame10.jpg   frame131.jpg  frame24.jpg  frame46.jpg  frame68.jpg  frame8.jpg\n",
            "frame110.jpg  frame132.jpg  frame25.jpg  frame47.jpg  frame69.jpg  frame90.jpg\n",
            "frame111.jpg  frame133.jpg  frame26.jpg  frame48.jpg  frame6.jpg   frame91.jpg\n",
            "frame112.jpg  frame134.jpg  frame27.jpg  frame49.jpg  frame70.jpg  frame92.jpg\n",
            "frame113.jpg  frame135.jpg  frame28.jpg  frame4.jpg   frame71.jpg  frame93.jpg\n",
            "frame114.jpg  frame136.jpg  frame29.jpg  frame50.jpg  frame72.jpg  frame94.jpg\n",
            "frame115.jpg  frame137.jpg  frame2.jpg\t frame51.jpg  frame73.jpg  frame95.jpg\n",
            "frame116.jpg  frame138.jpg  frame30.jpg  frame52.jpg  frame74.jpg  frame96.jpg\n",
            "frame117.jpg  frame139.jpg  frame31.jpg  frame53.jpg  frame75.jpg  frame97.jpg\n",
            "frame118.jpg  frame13.jpg   frame32.jpg  frame54.jpg  frame76.jpg  frame98.jpg\n",
            "frame119.jpg  frame140.jpg  frame33.jpg  frame55.jpg  frame77.jpg  frame99.jpg\n",
            "frame11.jpg   frame141.jpg  frame34.jpg  frame56.jpg  frame78.jpg  frame9.jpg\n",
            "frame120.jpg  frame142.jpg  frame35.jpg  frame57.jpg  frame79.jpg\n"
          ],
          "name": "stdout"
        }
      ]
    },
    {
      "cell_type": "code",
      "metadata": {
        "id": "k-iBuYjH_06Q",
        "colab_type": "code",
        "outputId": "c77fb18f-0721-43d4-bd04-2c0e2d3d8558",
        "colab": {
          "base_uri": "https://localhost:8080/",
          "height": 68
        }
      },
      "source": [
        "MODEL_PATH=\"/content/drive/My Drive/EVA/Assignment23/\"\n",
        "PREDICTOR_PATH = MODEL_PATH + \"shape_predictor_68_face_landmarks.dat\"\n",
        "DATA_PATH=MODEL_PATH + \"data/\"\n",
        "OUTPUTPATH=MODEL_PATH + \"LandmarksOutPut/\"\n",
        "LANDMARKSPATH=MODEL_PATH + \"Landmarks/\"\n",
        "\n",
        "srcframePrefix = \"frame\"\n",
        "srcframeSuffix = \".jpg\"\n",
        "\n",
        "print(PREDICTOR_PATH)\n",
        "print(DATA_PATH)\n",
        "print(OUTPUTPATH)\n"
      ],
      "execution_count": 4,
      "outputs": [
        {
          "output_type": "stream",
          "text": [
            "/content/drive/My Drive/EVA/Assignment23/shape_predictor_68_face_landmarks.dat\n",
            "/content/drive/My Drive/EVA/Assignment23/data/\n",
            "/content/drive/My Drive/EVA/Assignment23/LandmarksOutPut/\n"
          ],
          "name": "stdout"
        }
      ]
    },
    {
      "cell_type": "code",
      "metadata": {
        "id": "qPQU5sSDNnsJ",
        "colab_type": "code",
        "colab": {}
      },
      "source": [
        "def detectFace(im):\n",
        "  # Detect faces in the image\n",
        "  faceRects = faceDetector(im, 0)\n",
        "  #print(\"Number of faces detected: \",len(faceRects))\n",
        "\n",
        "  return faceRects"
      ],
      "execution_count": 0,
      "outputs": []
    },
    {
      "cell_type": "code",
      "metadata": {
        "id": "BuysxFN0u3HB",
        "colab_type": "code",
        "colab": {}
      },
      "source": [
        "\n",
        "def drawPolyline(im, landmarks, start, end, isClosed=False):\n",
        "  points = []\n",
        "  for i in range(start, end+1):\n",
        "    point = [landmarks.part(i).x, landmarks.part(i).y]\n",
        "    points.append(point)\n",
        "\n",
        "  points = np.array(points, dtype=np.int32)\n",
        "  cv2.polylines(im, [points], isClosed, (255, 200, 0), \n",
        "                  thickness=2, lineType=cv2.LINE_8)"
      ],
      "execution_count": 0,
      "outputs": []
    },
    {
      "cell_type": "code",
      "metadata": {
        "id": "EhdXGtUWu3f0",
        "colab_type": "code",
        "colab": {}
      },
      "source": [
        "# Use this function for 68-points facial landmark detector model\n",
        "def renderFace(im, landmarks):\n",
        "    assert(landmarks.num_parts == 68)\n",
        "    drawPolyline(im, landmarks, 0, 16)           # Jaw line\n",
        "    drawPolyline(im, landmarks, 17, 21)          # Left eyebrow\n",
        "    drawPolyline(im, landmarks, 22, 26)          # Right eyebrow\n",
        "    drawPolyline(im, landmarks, 27, 30)          # Nose bridge\n",
        "    drawPolyline(im, landmarks, 30, 35, True)    # Lower nose\n",
        "    drawPolyline(im, landmarks, 36, 41, True)    # Left eye\n",
        "    drawPolyline(im, landmarks, 42, 47, True)    # Right Eye\n",
        "    drawPolyline(im, landmarks, 48, 59, True)    # Outer lip\n",
        "    drawPolyline(im, landmarks, 60, 67, True)    # Inner lip"
      ],
      "execution_count": 0,
      "outputs": []
    },
    {
      "cell_type": "code",
      "metadata": {
        "id": "ZLcJtV9ju3sx",
        "colab_type": "code",
        "colab": {}
      },
      "source": [
        "# Use this function for any model other than\n",
        "# 68 points facial_landmark detector model\n",
        "def renderFace2(im, landmarks, color=(0, 255, 0), radius=3):\n",
        "  for p in landmarks.parts():\n",
        "    cv2.circle(im, (p.x, p.y), radius, color, -1)"
      ],
      "execution_count": 0,
      "outputs": []
    },
    {
      "cell_type": "code",
      "metadata": {
        "id": "S3urNQZFu38K",
        "colab_type": "code",
        "colab": {}
      },
      "source": [
        "def writeLandmarksToFile(landmarks, landmarksFileName):\n",
        "  with open(landmarksFileName, 'w') as f:\n",
        "    for p in landmarks.parts():\n",
        "      f.write(\"%s %s\\n\" %(int(p.x),int(p.y)))\n",
        "\n",
        "  f.close()"
      ],
      "execution_count": 0,
      "outputs": []
    },
    {
      "cell_type": "code",
      "metadata": {
        "id": "p47eMbaZNuxe",
        "colab_type": "code",
        "colab": {}
      },
      "source": [
        "def drawLandmarks(frameNo, im, faceRects):\n",
        "\n",
        "  # Loop over all detected face rectangles\n",
        "  for i in range(0, len(faceRects)):\n",
        "      newRect = dlib.rectangle(int(faceRects[i].left()),\n",
        "                         int(faceRects[i].top()),\n",
        "                         int(faceRects[i].right()),\n",
        "                         int(faceRects[i].bottom()))\n",
        "      # For every face rectangle, run landmarkDetector\n",
        "      landmarks = landmarkDetector(im, newRect)\n",
        "      # Print number of landmarks\n",
        "      #if i==0:\n",
        "        #print(\"Number of landmarks\",len(landmarks.parts()))\n",
        "      # Store landmarks for current face\n",
        "      landmarksAll.append(landmarks)\n",
        "\n",
        "      # Next, we render the outline of the face using\n",
        "      # detected landmarks.\n",
        "      renderFace(im, landmarks)\n",
        "\n",
        "      # The code below saves the landmarks to \n",
        "      # output/frame_0 … output/frame_N.txt.\n",
        "      landmarksFileName = landmarksBasename +\"_\"+ str(frameNo)+ \".txt\"\n",
        "      #print(\"Saving landmarks to\", landmarksFileName)\n",
        "      # Write landmarks to disk\n",
        "      writeLandmarksToFile(landmarks, landmarksFileName)"
      ],
      "execution_count": 0,
      "outputs": []
    },
    {
      "cell_type": "code",
      "metadata": {
        "id": "AI1-6h_ON51O",
        "colab_type": "code",
        "colab": {}
      },
      "source": [
        "# Save output frames\n",
        "def saveFrames(im, filename):\n",
        "  outputFileName = OUTPUTPATH + filename\n",
        "  print(\"Saving output image to\", outputFileName)\n",
        "  cv2.imwrite(outputFileName, im)"
      ],
      "execution_count": 0,
      "outputs": []
    },
    {
      "cell_type": "code",
      "metadata": {
        "id": "XcAVBz55-FQN",
        "colab_type": "code",
        "outputId": "a0d9f437-f9f7-4d32-ca2d-00995cf25064",
        "colab": {
          "base_uri": "https://localhost:8080/",
          "height": 1000
        }
      },
      "source": [
        "import os\n",
        "\n",
        "if not os.path.exists(OUTPUTPATH): \n",
        "   os.makedirs(OUTPUTPATH) \n",
        "if not os.path.exists(LANDMARKSPATH): \n",
        "   os.makedirs(LANDMARKSPATH)\n",
        "\n",
        "faceDetector = dlib.get_frontal_face_detector()\n",
        "landmarkDetector = dlib.shape_predictor(PREDICTOR_PATH)\n",
        "landmarksBasename = LANDMARKSPATH + \"frame\"\n",
        "\n",
        "for i in range(0,142):\n",
        "  imgname = srcframePrefix + str(i) + srcframeSuffix\n",
        "  imgfile = DATA_PATH + imgname\n",
        "  #print(\"Showing image :%s\" % imgfile)\n",
        "  im = cv2.imread(imgfile)\n",
        "  faceRects = detectFace(im)\n",
        "  \n",
        "    #print(faceRects)\n",
        "  # List to store landmarks of all detected faces\n",
        "  landmarksAll = []\n",
        "  \n",
        "  drawLandmarks(i, im, faceRects)\n",
        "  \n",
        "  saveFrames(im, imgname)\n",
        "  \n",
        "  #plt.figure(figsize=(15,15))\n",
        "  #plt.imshow(im[:,:,::-1])\n",
        "  #plt.title(\"Facial Landmark detector\")\n",
        "  #plt.show()"
      ],
      "execution_count": 13,
      "outputs": [
        {
          "output_type": "stream",
          "text": [
            "Saving output image to /content/drive/My Drive/EVA/Assignment23/LandmarksOutPut/frame0.jpg\n",
            "Saving output image to /content/drive/My Drive/EVA/Assignment23/LandmarksOutPut/frame1.jpg\n",
            "Saving output image to /content/drive/My Drive/EVA/Assignment23/LandmarksOutPut/frame2.jpg\n",
            "Saving output image to /content/drive/My Drive/EVA/Assignment23/LandmarksOutPut/frame3.jpg\n",
            "Saving output image to /content/drive/My Drive/EVA/Assignment23/LandmarksOutPut/frame4.jpg\n",
            "Saving output image to /content/drive/My Drive/EVA/Assignment23/LandmarksOutPut/frame5.jpg\n",
            "Saving output image to /content/drive/My Drive/EVA/Assignment23/LandmarksOutPut/frame6.jpg\n",
            "Saving output image to /content/drive/My Drive/EVA/Assignment23/LandmarksOutPut/frame7.jpg\n",
            "Saving output image to /content/drive/My Drive/EVA/Assignment23/LandmarksOutPut/frame8.jpg\n",
            "Saving output image to /content/drive/My Drive/EVA/Assignment23/LandmarksOutPut/frame9.jpg\n",
            "Saving output image to /content/drive/My Drive/EVA/Assignment23/LandmarksOutPut/frame10.jpg\n",
            "Saving output image to /content/drive/My Drive/EVA/Assignment23/LandmarksOutPut/frame11.jpg\n",
            "Saving output image to /content/drive/My Drive/EVA/Assignment23/LandmarksOutPut/frame12.jpg\n",
            "Saving output image to /content/drive/My Drive/EVA/Assignment23/LandmarksOutPut/frame13.jpg\n",
            "Saving output image to /content/drive/My Drive/EVA/Assignment23/LandmarksOutPut/frame14.jpg\n",
            "Saving output image to /content/drive/My Drive/EVA/Assignment23/LandmarksOutPut/frame15.jpg\n",
            "Saving output image to /content/drive/My Drive/EVA/Assignment23/LandmarksOutPut/frame16.jpg\n",
            "Saving output image to /content/drive/My Drive/EVA/Assignment23/LandmarksOutPut/frame17.jpg\n",
            "Saving output image to /content/drive/My Drive/EVA/Assignment23/LandmarksOutPut/frame18.jpg\n",
            "Saving output image to /content/drive/My Drive/EVA/Assignment23/LandmarksOutPut/frame19.jpg\n",
            "Saving output image to /content/drive/My Drive/EVA/Assignment23/LandmarksOutPut/frame20.jpg\n",
            "Saving output image to /content/drive/My Drive/EVA/Assignment23/LandmarksOutPut/frame21.jpg\n",
            "Saving output image to /content/drive/My Drive/EVA/Assignment23/LandmarksOutPut/frame22.jpg\n",
            "Saving output image to /content/drive/My Drive/EVA/Assignment23/LandmarksOutPut/frame23.jpg\n",
            "Saving output image to /content/drive/My Drive/EVA/Assignment23/LandmarksOutPut/frame24.jpg\n",
            "Saving output image to /content/drive/My Drive/EVA/Assignment23/LandmarksOutPut/frame25.jpg\n",
            "Saving output image to /content/drive/My Drive/EVA/Assignment23/LandmarksOutPut/frame26.jpg\n",
            "Saving output image to /content/drive/My Drive/EVA/Assignment23/LandmarksOutPut/frame27.jpg\n",
            "Saving output image to /content/drive/My Drive/EVA/Assignment23/LandmarksOutPut/frame28.jpg\n",
            "Saving output image to /content/drive/My Drive/EVA/Assignment23/LandmarksOutPut/frame29.jpg\n",
            "Saving output image to /content/drive/My Drive/EVA/Assignment23/LandmarksOutPut/frame30.jpg\n",
            "Saving output image to /content/drive/My Drive/EVA/Assignment23/LandmarksOutPut/frame31.jpg\n",
            "Saving output image to /content/drive/My Drive/EVA/Assignment23/LandmarksOutPut/frame32.jpg\n",
            "Saving output image to /content/drive/My Drive/EVA/Assignment23/LandmarksOutPut/frame33.jpg\n",
            "Saving output image to /content/drive/My Drive/EVA/Assignment23/LandmarksOutPut/frame34.jpg\n",
            "Saving output image to /content/drive/My Drive/EVA/Assignment23/LandmarksOutPut/frame35.jpg\n",
            "Saving output image to /content/drive/My Drive/EVA/Assignment23/LandmarksOutPut/frame36.jpg\n",
            "Saving output image to /content/drive/My Drive/EVA/Assignment23/LandmarksOutPut/frame37.jpg\n",
            "Saving output image to /content/drive/My Drive/EVA/Assignment23/LandmarksOutPut/frame38.jpg\n",
            "Saving output image to /content/drive/My Drive/EVA/Assignment23/LandmarksOutPut/frame39.jpg\n",
            "Saving output image to /content/drive/My Drive/EVA/Assignment23/LandmarksOutPut/frame40.jpg\n",
            "Saving output image to /content/drive/My Drive/EVA/Assignment23/LandmarksOutPut/frame41.jpg\n",
            "Saving output image to /content/drive/My Drive/EVA/Assignment23/LandmarksOutPut/frame42.jpg\n",
            "Saving output image to /content/drive/My Drive/EVA/Assignment23/LandmarksOutPut/frame43.jpg\n",
            "Saving output image to /content/drive/My Drive/EVA/Assignment23/LandmarksOutPut/frame44.jpg\n",
            "Saving output image to /content/drive/My Drive/EVA/Assignment23/LandmarksOutPut/frame45.jpg\n",
            "Saving output image to /content/drive/My Drive/EVA/Assignment23/LandmarksOutPut/frame46.jpg\n",
            "Saving output image to /content/drive/My Drive/EVA/Assignment23/LandmarksOutPut/frame47.jpg\n",
            "Saving output image to /content/drive/My Drive/EVA/Assignment23/LandmarksOutPut/frame48.jpg\n",
            "Saving output image to /content/drive/My Drive/EVA/Assignment23/LandmarksOutPut/frame49.jpg\n",
            "Saving output image to /content/drive/My Drive/EVA/Assignment23/LandmarksOutPut/frame50.jpg\n",
            "Saving output image to /content/drive/My Drive/EVA/Assignment23/LandmarksOutPut/frame51.jpg\n",
            "Saving output image to /content/drive/My Drive/EVA/Assignment23/LandmarksOutPut/frame52.jpg\n",
            "Saving output image to /content/drive/My Drive/EVA/Assignment23/LandmarksOutPut/frame53.jpg\n",
            "Saving output image to /content/drive/My Drive/EVA/Assignment23/LandmarksOutPut/frame54.jpg\n",
            "Saving output image to /content/drive/My Drive/EVA/Assignment23/LandmarksOutPut/frame55.jpg\n",
            "Saving output image to /content/drive/My Drive/EVA/Assignment23/LandmarksOutPut/frame56.jpg\n",
            "Saving output image to /content/drive/My Drive/EVA/Assignment23/LandmarksOutPut/frame57.jpg\n",
            "Saving output image to /content/drive/My Drive/EVA/Assignment23/LandmarksOutPut/frame58.jpg\n",
            "Saving output image to /content/drive/My Drive/EVA/Assignment23/LandmarksOutPut/frame59.jpg\n",
            "Saving output image to /content/drive/My Drive/EVA/Assignment23/LandmarksOutPut/frame60.jpg\n",
            "Saving output image to /content/drive/My Drive/EVA/Assignment23/LandmarksOutPut/frame61.jpg\n",
            "Saving output image to /content/drive/My Drive/EVA/Assignment23/LandmarksOutPut/frame62.jpg\n",
            "Saving output image to /content/drive/My Drive/EVA/Assignment23/LandmarksOutPut/frame63.jpg\n",
            "Saving output image to /content/drive/My Drive/EVA/Assignment23/LandmarksOutPut/frame64.jpg\n",
            "Saving output image to /content/drive/My Drive/EVA/Assignment23/LandmarksOutPut/frame65.jpg\n",
            "Saving output image to /content/drive/My Drive/EVA/Assignment23/LandmarksOutPut/frame66.jpg\n",
            "Saving output image to /content/drive/My Drive/EVA/Assignment23/LandmarksOutPut/frame67.jpg\n",
            "Saving output image to /content/drive/My Drive/EVA/Assignment23/LandmarksOutPut/frame68.jpg\n",
            "Saving output image to /content/drive/My Drive/EVA/Assignment23/LandmarksOutPut/frame69.jpg\n",
            "Saving output image to /content/drive/My Drive/EVA/Assignment23/LandmarksOutPut/frame70.jpg\n",
            "Saving output image to /content/drive/My Drive/EVA/Assignment23/LandmarksOutPut/frame71.jpg\n",
            "Saving output image to /content/drive/My Drive/EVA/Assignment23/LandmarksOutPut/frame72.jpg\n",
            "Saving output image to /content/drive/My Drive/EVA/Assignment23/LandmarksOutPut/frame73.jpg\n",
            "Saving output image to /content/drive/My Drive/EVA/Assignment23/LandmarksOutPut/frame74.jpg\n",
            "Saving output image to /content/drive/My Drive/EVA/Assignment23/LandmarksOutPut/frame75.jpg\n",
            "Saving output image to /content/drive/My Drive/EVA/Assignment23/LandmarksOutPut/frame76.jpg\n",
            "Saving output image to /content/drive/My Drive/EVA/Assignment23/LandmarksOutPut/frame77.jpg\n",
            "Saving output image to /content/drive/My Drive/EVA/Assignment23/LandmarksOutPut/frame78.jpg\n",
            "Saving output image to /content/drive/My Drive/EVA/Assignment23/LandmarksOutPut/frame79.jpg\n",
            "Saving output image to /content/drive/My Drive/EVA/Assignment23/LandmarksOutPut/frame80.jpg\n",
            "Saving output image to /content/drive/My Drive/EVA/Assignment23/LandmarksOutPut/frame81.jpg\n",
            "Saving output image to /content/drive/My Drive/EVA/Assignment23/LandmarksOutPut/frame82.jpg\n",
            "Saving output image to /content/drive/My Drive/EVA/Assignment23/LandmarksOutPut/frame83.jpg\n",
            "Saving output image to /content/drive/My Drive/EVA/Assignment23/LandmarksOutPut/frame84.jpg\n",
            "Saving output image to /content/drive/My Drive/EVA/Assignment23/LandmarksOutPut/frame85.jpg\n",
            "Saving output image to /content/drive/My Drive/EVA/Assignment23/LandmarksOutPut/frame86.jpg\n",
            "Saving output image to /content/drive/My Drive/EVA/Assignment23/LandmarksOutPut/frame87.jpg\n",
            "Saving output image to /content/drive/My Drive/EVA/Assignment23/LandmarksOutPut/frame88.jpg\n",
            "Saving output image to /content/drive/My Drive/EVA/Assignment23/LandmarksOutPut/frame89.jpg\n",
            "Saving output image to /content/drive/My Drive/EVA/Assignment23/LandmarksOutPut/frame90.jpg\n",
            "Saving output image to /content/drive/My Drive/EVA/Assignment23/LandmarksOutPut/frame91.jpg\n",
            "Saving output image to /content/drive/My Drive/EVA/Assignment23/LandmarksOutPut/frame92.jpg\n",
            "Saving output image to /content/drive/My Drive/EVA/Assignment23/LandmarksOutPut/frame93.jpg\n",
            "Saving output image to /content/drive/My Drive/EVA/Assignment23/LandmarksOutPut/frame94.jpg\n",
            "Saving output image to /content/drive/My Drive/EVA/Assignment23/LandmarksOutPut/frame95.jpg\n",
            "Saving output image to /content/drive/My Drive/EVA/Assignment23/LandmarksOutPut/frame96.jpg\n",
            "Saving output image to /content/drive/My Drive/EVA/Assignment23/LandmarksOutPut/frame97.jpg\n",
            "Saving output image to /content/drive/My Drive/EVA/Assignment23/LandmarksOutPut/frame98.jpg\n",
            "Saving output image to /content/drive/My Drive/EVA/Assignment23/LandmarksOutPut/frame99.jpg\n",
            "Saving output image to /content/drive/My Drive/EVA/Assignment23/LandmarksOutPut/frame100.jpg\n",
            "Saving output image to /content/drive/My Drive/EVA/Assignment23/LandmarksOutPut/frame101.jpg\n",
            "Saving output image to /content/drive/My Drive/EVA/Assignment23/LandmarksOutPut/frame102.jpg\n",
            "Saving output image to /content/drive/My Drive/EVA/Assignment23/LandmarksOutPut/frame103.jpg\n",
            "Saving output image to /content/drive/My Drive/EVA/Assignment23/LandmarksOutPut/frame104.jpg\n",
            "Saving output image to /content/drive/My Drive/EVA/Assignment23/LandmarksOutPut/frame105.jpg\n",
            "Saving output image to /content/drive/My Drive/EVA/Assignment23/LandmarksOutPut/frame106.jpg\n",
            "Saving output image to /content/drive/My Drive/EVA/Assignment23/LandmarksOutPut/frame107.jpg\n",
            "Saving output image to /content/drive/My Drive/EVA/Assignment23/LandmarksOutPut/frame108.jpg\n",
            "Saving output image to /content/drive/My Drive/EVA/Assignment23/LandmarksOutPut/frame109.jpg\n",
            "Saving output image to /content/drive/My Drive/EVA/Assignment23/LandmarksOutPut/frame110.jpg\n",
            "Saving output image to /content/drive/My Drive/EVA/Assignment23/LandmarksOutPut/frame111.jpg\n",
            "Saving output image to /content/drive/My Drive/EVA/Assignment23/LandmarksOutPut/frame112.jpg\n",
            "Saving output image to /content/drive/My Drive/EVA/Assignment23/LandmarksOutPut/frame113.jpg\n",
            "Saving output image to /content/drive/My Drive/EVA/Assignment23/LandmarksOutPut/frame114.jpg\n",
            "Saving output image to /content/drive/My Drive/EVA/Assignment23/LandmarksOutPut/frame115.jpg\n",
            "Saving output image to /content/drive/My Drive/EVA/Assignment23/LandmarksOutPut/frame116.jpg\n",
            "Saving output image to /content/drive/My Drive/EVA/Assignment23/LandmarksOutPut/frame117.jpg\n",
            "Saving output image to /content/drive/My Drive/EVA/Assignment23/LandmarksOutPut/frame118.jpg\n",
            "Saving output image to /content/drive/My Drive/EVA/Assignment23/LandmarksOutPut/frame119.jpg\n",
            "Saving output image to /content/drive/My Drive/EVA/Assignment23/LandmarksOutPut/frame120.jpg\n",
            "Saving output image to /content/drive/My Drive/EVA/Assignment23/LandmarksOutPut/frame121.jpg\n",
            "Saving output image to /content/drive/My Drive/EVA/Assignment23/LandmarksOutPut/frame122.jpg\n",
            "Saving output image to /content/drive/My Drive/EVA/Assignment23/LandmarksOutPut/frame123.jpg\n",
            "Saving output image to /content/drive/My Drive/EVA/Assignment23/LandmarksOutPut/frame124.jpg\n",
            "Saving output image to /content/drive/My Drive/EVA/Assignment23/LandmarksOutPut/frame125.jpg\n",
            "Saving output image to /content/drive/My Drive/EVA/Assignment23/LandmarksOutPut/frame126.jpg\n",
            "Saving output image to /content/drive/My Drive/EVA/Assignment23/LandmarksOutPut/frame127.jpg\n",
            "Saving output image to /content/drive/My Drive/EVA/Assignment23/LandmarksOutPut/frame128.jpg\n",
            "Saving output image to /content/drive/My Drive/EVA/Assignment23/LandmarksOutPut/frame129.jpg\n",
            "Saving output image to /content/drive/My Drive/EVA/Assignment23/LandmarksOutPut/frame130.jpg\n",
            "Saving output image to /content/drive/My Drive/EVA/Assignment23/LandmarksOutPut/frame131.jpg\n",
            "Saving output image to /content/drive/My Drive/EVA/Assignment23/LandmarksOutPut/frame132.jpg\n",
            "Saving output image to /content/drive/My Drive/EVA/Assignment23/LandmarksOutPut/frame133.jpg\n",
            "Saving output image to /content/drive/My Drive/EVA/Assignment23/LandmarksOutPut/frame134.jpg\n",
            "Saving output image to /content/drive/My Drive/EVA/Assignment23/LandmarksOutPut/frame135.jpg\n",
            "Saving output image to /content/drive/My Drive/EVA/Assignment23/LandmarksOutPut/frame136.jpg\n",
            "Saving output image to /content/drive/My Drive/EVA/Assignment23/LandmarksOutPut/frame137.jpg\n",
            "Saving output image to /content/drive/My Drive/EVA/Assignment23/LandmarksOutPut/frame138.jpg\n",
            "Saving output image to /content/drive/My Drive/EVA/Assignment23/LandmarksOutPut/frame139.jpg\n",
            "Saving output image to /content/drive/My Drive/EVA/Assignment23/LandmarksOutPut/frame140.jpg\n",
            "Saving output image to /content/drive/My Drive/EVA/Assignment23/LandmarksOutPut/frame141.jpg\n"
          ],
          "name": "stdout"
        }
      ]
    }
  ]
}