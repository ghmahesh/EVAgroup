{
  "nbformat": 4,
  "nbformat_minor": 0,
  "metadata": {
    "colab": {
      "name": "Assignment_23_1.ipynb",
      "provenance": [],
      "collapsed_sections": []
    },
    "kernelspec": {
      "name": "python3",
      "display_name": "Python 3"
    }
  },
  "cells": [
    {
      "cell_type": "code",
      "metadata": {
        "id": "456mG6zu9eR7",
        "colab_type": "code",
        "colab": {}
      },
      "source": [
        "#!pip install opencv-python\n",
        "#!pip install imutils"
      ],
      "execution_count": 0,
      "outputs": []
    },
    {
      "cell_type": "code",
      "metadata": {
        "id": "DvKkU2Q49o2M",
        "colab_type": "code",
        "outputId": "587a2415-1d90-486b-f14b-2edd511fd638",
        "colab": {
          "base_uri": "https://localhost:8080/",
          "height": 122
        }
      },
      "source": [
        "from google.colab import drive\n",
        "\n",
        "drive.mount('/content/drive')\n",
        "!ls /content/drive/My\\ Drive/EVA/Assignment23 > /dev/null"
      ],
      "execution_count": 0,
      "outputs": [
        {
          "output_type": "stream",
          "text": [
            "Go to this URL in a browser: https://accounts.google.com/o/oauth2/auth?client_id=947318989803-6bn6qk8qdgf4n4g3pfee6491hc0brc4i.apps.googleusercontent.com&redirect_uri=urn%3Aietf%3Awg%3Aoauth%3A2.0%3Aoob&scope=email%20https%3A%2F%2Fwww.googleapis.com%2Fauth%2Fdocs.test%20https%3A%2F%2Fwww.googleapis.com%2Fauth%2Fdrive%20https%3A%2F%2Fwww.googleapis.com%2Fauth%2Fdrive.photos.readonly%20https%3A%2F%2Fwww.googleapis.com%2Fauth%2Fpeopleapi.readonly&response_type=code\n",
            "\n",
            "Enter your authorization code:\n",
            "··········\n",
            "Mounted at /content/drive\n"
          ],
          "name": "stdout"
        }
      ]
    },
    {
      "cell_type": "code",
      "metadata": {
        "id": "-5DHIz0z9gsm",
        "colab_type": "code",
        "colab": {}
      },
      "source": [
        "import cv2\n",
        "import imutils\n",
        "from google.colab.patches import cv2_imshow\n",
        "from imutils.video import FileVideoStream\n",
        "\n",
        "\n",
        "# Function to extract frames \n",
        "def FrameCapture(path): \n",
        "      \n",
        "    # Path to video file \n",
        "    fvs = FileVideoStream(path).start()\n",
        "    print(fvs.stream.isOpened())\n",
        "    vidObj = fvs.stream\n",
        "    vidObj = cv2.VideoCapture(path) \n",
        "    print(vidObj.isOpened())\n",
        "    if not vidObj.isOpened():\n",
        "      vidObj.open(0)\n",
        "      print(vidObj.isOpened())\n",
        "    # Used as counter variable \n",
        "    count = 0\n",
        "  \n",
        "    # checks whether frames were extracted \n",
        "    success = 1\n",
        "  \n",
        "    while success: \n",
        "        # vidObj object calls read \n",
        "        # function extract frames \n",
        "\n",
        "        success, image = vidObj.read()\n",
        "        print(\"reading frame %d\"  % count, success)\n",
        "        #cv2_imshow(image)\n",
        "        cv2.waitKey(0)\n",
        "        cv2.destroyAllWindows() # destroys the window showing image \n",
        "        # Saves the frames with frame-count \n",
        "        cv2.imwrite(\"/content/drive/My Drive/EVA/Assignment23/data/frame%d.jpg\" % count, image) \n",
        "        count += 1\n",
        "  \n",
        "    print(\"Wrote %d frames\" % count)\n",
        "    vidObj.release()"
      ],
      "execution_count": 0,
      "outputs": []
    },
    {
      "cell_type": "code",
      "metadata": {
        "id": "OUOCgZG3G2to",
        "colab_type": "code",
        "outputId": "5cd4e48b-f8f1-4335-8ac8-cdb24bc2454b",
        "colab": {
          "base_uri": "https://localhost:8080/",
          "height": 34
        }
      },
      "source": [
        "!ls /content/drive/My\\ Drive/EVA/Assignment23/VID_20191020_132419.mp4\n",
        "!ls /content/drive/My\\ Drive/EVA/Assignment23/data/"
      ],
      "execution_count": 0,
      "outputs": [
        {
          "output_type": "stream",
          "text": [
            "'/content/drive/My Drive/EVA/Assignment23/VID_20191020_132419.mp4'\n"
          ],
          "name": "stdout"
        }
      ]
    },
    {
      "cell_type": "code",
      "metadata": {
        "id": "_VXgVb0r9gqP",
        "colab_type": "code",
        "outputId": "5a4bc397-adaf-42e5-e014-b4c07fbd6f34",
        "colab": {
          "base_uri": "https://localhost:8080/",
          "height": 1000
        }
      },
      "source": [
        "import os\n",
        "\n",
        "# creating a folder named data \n",
        "if not os.path.exists('/content/drive/My Drive/EVA/Assignment23/data'): \n",
        "   os.makedirs('/content/drive/My Drive/EVA/Assignment23/data') \n",
        "  \n",
        "# Calling the function \n",
        "FrameCapture(\"/content/drive/My Drive/EVA/Assignment23/VID_20191020_132419.mp4\")\n",
        "print(\"Extracted the frames\")\n",
        "\n",
        "\n",
        "#cv2_imshow(\"/content/drive/My Drive/EVA/Assignment23/data/frame1.jpg\")\n",
        "#cv2.waitKey(0)\n",
        "#cv2.destroyAllWindows() # destroys the window showing image\n"
      ],
      "execution_count": 0,
      "outputs": [
        {
          "output_type": "stream",
          "text": [
            "True\n",
            "True\n",
            "reading frame 0 True\n",
            "reading frame 1 True\n",
            "reading frame 2 True\n",
            "reading frame 3 True\n",
            "reading frame 4 True\n",
            "reading frame 5 True\n",
            "reading frame 6 True\n",
            "reading frame 7 True\n",
            "reading frame 8 True\n",
            "reading frame 9 True\n",
            "reading frame 10 True\n",
            "reading frame 11 True\n",
            "reading frame 12 True\n",
            "reading frame 13 True\n",
            "reading frame 14 True\n",
            "reading frame 15 True\n",
            "reading frame 16 True\n",
            "reading frame 17 True\n",
            "reading frame 18 True\n",
            "reading frame 19 True\n",
            "reading frame 20 True\n",
            "reading frame 21 True\n",
            "reading frame 22 True\n",
            "reading frame 23 True\n",
            "reading frame 24 True\n",
            "reading frame 25 True\n",
            "reading frame 26 True\n",
            "reading frame 27 True\n",
            "reading frame 28 True\n",
            "reading frame 29 True\n",
            "reading frame 30 True\n",
            "reading frame 31 True\n",
            "reading frame 32 True\n",
            "reading frame 33 True\n",
            "reading frame 34 True\n",
            "reading frame 35 True\n",
            "reading frame 36 True\n",
            "reading frame 37 True\n",
            "reading frame 38 True\n",
            "reading frame 39 True\n",
            "reading frame 40 True\n",
            "reading frame 41 True\n",
            "reading frame 42 True\n",
            "reading frame 43 True\n",
            "reading frame 44 True\n",
            "reading frame 45 True\n",
            "reading frame 46 True\n",
            "reading frame 47 True\n",
            "reading frame 48 True\n",
            "reading frame 49 True\n",
            "reading frame 50 True\n",
            "reading frame 51 True\n",
            "reading frame 52 True\n",
            "reading frame 53 True\n",
            "reading frame 54 True\n",
            "reading frame 55 True\n",
            "reading frame 56 True\n",
            "reading frame 57 True\n",
            "reading frame 58 True\n",
            "reading frame 59 True\n",
            "reading frame 60 True\n",
            "reading frame 61 True\n",
            "reading frame 62 True\n",
            "reading frame 63 True\n",
            "reading frame 64 True\n",
            "reading frame 65 True\n",
            "reading frame 66 True\n",
            "reading frame 67 True\n",
            "reading frame 68 True\n",
            "reading frame 69 True\n",
            "reading frame 70 True\n",
            "reading frame 71 True\n",
            "reading frame 72 True\n",
            "reading frame 73 True\n",
            "reading frame 74 True\n",
            "reading frame 75 True\n",
            "reading frame 76 True\n",
            "reading frame 77 True\n",
            "reading frame 78 True\n",
            "reading frame 79 True\n",
            "reading frame 80 True\n",
            "reading frame 81 True\n",
            "reading frame 82 True\n",
            "reading frame 83 True\n",
            "reading frame 84 True\n",
            "reading frame 85 True\n",
            "reading frame 86 True\n",
            "reading frame 87 True\n",
            "reading frame 88 True\n",
            "reading frame 89 True\n",
            "reading frame 90 True\n",
            "reading frame 91 True\n",
            "reading frame 92 True\n",
            "reading frame 93 True\n",
            "reading frame 94 True\n",
            "reading frame 95 True\n",
            "reading frame 96 True\n",
            "reading frame 97 True\n",
            "reading frame 98 True\n",
            "reading frame 99 True\n",
            "reading frame 100 True\n",
            "reading frame 101 True\n",
            "reading frame 102 True\n",
            "reading frame 103 True\n",
            "reading frame 104 True\n",
            "reading frame 105 True\n",
            "reading frame 106 True\n",
            "reading frame 107 True\n",
            "reading frame 108 True\n",
            "reading frame 109 True\n",
            "reading frame 110 True\n",
            "reading frame 111 True\n",
            "reading frame 112 True\n",
            "reading frame 113 True\n",
            "reading frame 114 True\n",
            "reading frame 115 True\n",
            "reading frame 116 True\n",
            "reading frame 117 True\n",
            "reading frame 118 True\n",
            "reading frame 119 True\n",
            "reading frame 120 True\n",
            "reading frame 121 True\n",
            "reading frame 122 True\n",
            "reading frame 123 True\n",
            "reading frame 124 True\n",
            "reading frame 125 True\n",
            "reading frame 126 True\n",
            "reading frame 127 True\n",
            "reading frame 128 True\n",
            "reading frame 129 True\n",
            "reading frame 130 True\n",
            "reading frame 131 True\n",
            "reading frame 132 True\n",
            "reading frame 133 True\n",
            "reading frame 134 True\n",
            "reading frame 135 True\n",
            "reading frame 136 True\n",
            "reading frame 137 True\n",
            "reading frame 138 True\n",
            "reading frame 139 True\n",
            "reading frame 140 True\n",
            "reading frame 141 True\n",
            "reading frame 142 False\n",
            "Wrote 143 frames\n",
            "Extracted the frames\n"
          ],
          "name": "stdout"
        }
      ]
    },
    {
      "cell_type": "code",
      "metadata": {
        "id": "k-iBuYjH_06Q",
        "colab_type": "code",
        "colab": {}
      },
      "source": [
        ""
      ],
      "execution_count": 0,
      "outputs": []
    }
  ]
}